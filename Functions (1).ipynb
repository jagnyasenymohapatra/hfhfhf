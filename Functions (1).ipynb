{
  "nbformat": 4,
  "nbformat_minor": 0,
  "metadata": {
    "colab": {
      "provenance": []
    },
    "kernelspec": {
      "name": "python3",
      "display_name": "Python 3"
    },
    "language_info": {
      "name": "python"
    }
  },
  "cells": [
    {
      "cell_type": "markdown",
      "source": [
        "Python basic"
      ],
      "metadata": {
        "id": "hlfrBp91uBcc"
      }
    },
    {
      "cell_type": "markdown",
      "source": [
        "1.What is Python, and why is it popular?\n",
        " .Python is a high-level, interpreted, and general-purpose programming language known for its simplicity and readability. It was created by Guido van Rossum and released in 1991. Python supports multiple programming paradigms, including procedural, object-oriented, and functional programming.\n",
        " Python is popular because of its simple syntax, versatility (used in web development, data science, AI, etc.), extensive libraries and frameworks, cross-platform compatibility, and strong community support. It’s beginner-friendly, highly in demand, and scalable for complex projects."
      ],
      "metadata": {
        "id": "4ZeuVpb3uG4o"
      }
    },
    {
      "cell_type": "markdown",
      "source": [],
      "metadata": {
        "id": "4FZPKzwwt5lv"
      }
    },
    {
      "cell_type": "markdown",
      "source": [
        "2.What is an interpreter in Python?\n",
        "\n",
        "An interpreter in Python is a program that executes Python code line by line. It reads the source code, converts it into an intermediate form (bytecode), and then executes it directly. This allows for easier debugging and faster development since you can test code interactively without compilation."
      ],
      "metadata": {
        "id": "hIyNiLRKuj4j"
      }
    },
    {
      "cell_type": "markdown",
      "source": [
        "3.What are pre-defined keywords in Python ?\n",
        "\n",
        " .Pre-defined keywords in Python are reserved words that have specific meanings and purposes. They cannot be used as variable names, function names, or identifiers. These keywords are part of Python's syntax and help define the structure and flow of the program.\n",
        " Examples of Pre-defined Keywords in Python: Control Flow: if, else, elif, for, while, break, continue, pass Data Types: True, False, None Functions and Classes: def, class, return, yield, lambda Exception Handling: try, except, finally, raise, assert Logical Operators: and, or, not, in, is Context Management: with, as Other Keywords: import, from, global, nonlocal, del\n"
      ],
      "metadata": {
        "id": "m6woSUOeu7PP"
      }
    },
    {
      "cell_type": "markdown",
      "source": [
        "4.Can keywords be used as variable names?\n",
        "\n",
        " .No, keywords cannot be used as variable names in Python. Keywords are reserved for specific purposes in the language, and attempting to use them as variable names will result in a syntax error.\n",
        "Keywords are integral to the language’s syntax and are predefined to perform specific functions (e.g., if, else, while). Allowing them as variable names would lead to ambiguity in the code.\n",
        "\n"
      ],
      "metadata": {
        "id": "Adbw9-cDt_Z2"
      }
    },
    {
      "cell_type": "code",
      "source": [
        "4. Example\n",
        "\n",
        "# Incorrect: Using a keyword as a variable name\n",
        "if = 10  # This will cause a syntax error\n",
        "\n",
        "# Correct: Using a non-keyword name as a variable\n",
        "my_var = 10  # This is valid"
      ],
      "metadata": {
        "colab": {
          "base_uri": "https://localhost:8080/",
          "height": 106
        },
        "id": "bk_8Sl-ZwpcM",
        "outputId": "cf65b9a0-47ad-435a-a6df-ccbb8351331a"
      },
      "execution_count": null,
      "outputs": [
        {
          "output_type": "error",
          "ename": "SyntaxError",
          "evalue": "invalid syntax (<ipython-input-2-476d7bd01ece>, line 1)",
          "traceback": [
            "\u001b[0;36m  File \u001b[0;32m\"<ipython-input-2-476d7bd01ece>\"\u001b[0;36m, line \u001b[0;32m1\u001b[0m\n\u001b[0;31m    4. Example\u001b[0m\n\u001b[0m       ^\u001b[0m\n\u001b[0;31mSyntaxError\u001b[0m\u001b[0;31m:\u001b[0m invalid syntax\n"
          ]
        }
      ]
    },
    {
      "cell_type": "markdown",
      "source": [
        "5.What is mutability in Python?\n",
        "\n",
        "Mutability in Python refers to an object’s ability to be modified or changed after it is created. Based on this property, Python objects are categorized into: Mutability in Python is about whether you can change an object after it's created.\n",
        "Mutable objects: You can change the contents of the object after it’s created.\n",
        "\n",
        "Examples: Lists, Dictionaries, Sets.\n",
        "\n",
        "Example: You can add, remove, or modify items in a list.\n",
        "\n",
        "list = [1, 2, 3]\n",
        "list[0] = 10  # Change the first item in the list\n",
        "print(list)  # Output: [10, 2, 3]\n",
        "Immutable objects: You cannot change the contents of the object once it's created.\n",
        "\n",
        "Examples: Strings, Tuples, Numbers.\n",
        "\n",
        "Ex: You can’t change a character in a string.\n",
        "\n",
        "string = \"hello\"\n",
        "string[0] = \"H\"  # This gives an error because strings are immutable\n"
      ],
      "metadata": {
        "id": "J2Tq6UGQw-Xw"
      }
    },
    {
      "cell_type": "markdown",
      "source": [
        "6.Why are lists mutable, but tuples are immutable?\n",
        "\n",
        "Lists are mutable because they are designed to hold things that can change. You can add, remove, or change items in a list whenever you want. Lists are flexible for situations where data needs to change over time.\n",
        "\n",
        "Example with List (Mutable):\n",
        "\n",
        "my_list = [1, 2, 3]\n",
        "my_list[0] = 10  # You can change items\n",
        "my_list.append(4)  # You can add items\n",
        "print(my_list)  # Output: [10, 2, 3, 4]\n",
        "Tuples are immutable because they are meant to hold data that should not change. Once a tuple is created, you can't modify it. Tuples are used when you want the data to stay safe and unchanged.\n",
        "Example with Tuple (Immutable):\n",
        "\n",
        "my_tuple = (1, 2, 3)   # my_tuple[0] = 10  # This will give an error because tuples cannot be changed"
      ],
      "metadata": {
        "id": "ywXmROWTxzOI"
      }
    },
    {
      "cell_type": "markdown",
      "source": [
        "7.What is the difference between “==” and “is” operators in Python?\n",
        "\n",
        ".In Python, both == and is are used for comparison, but they serve different purposes:\n",
        "1. `==` (Equality Operator)\n",
        "- The `==` operator checks if the values of two objects are equal.\n",
        "- It compares the content of the objects.\n",
        "\n",
        "Example:\n",
        "  ```python\n",
        "    a = [1, 2, 3]\n",
        "      b = [1, 2, 3]\n",
        "\n",
        "        print(a == b)  # Output: True, because the values are the same\n",
        "          ```\n",
        "\n",
        "          - Even though `a` and `b` are different objects in memory, their contents (values) are the same, so `a == b` returns True."
      ],
      "metadata": {
        "id": "VFQlNHP8zCcv"
      }
    },
    {
      "cell_type": "markdown",
      "source": [
        "8. What are logical operators in Python?\n",
        "\n",
        "Logical Operators in Python: - Logical operators are used to combine conditional statements or expressions and return a Boolean result (True or False). Python has three main logical operators:\n",
        "          \n",
        "          and:\n",
        "\n",
        "          Description: Returns True if both conditions are True.\n",
        "          Example:\n",
        "          x = 5\n",
        "          y = 10\n",
        "          print(x > 3 and y < 15)  # Output: True, both conditions are True\n",
        "          or\n",
        "          Description: Returns True if at least one of the conditions is True.\n",
        "          Example:\n",
        "          x = 5\n",
        "          y = 10\n",
        "          print(x > 3 or y < 5)  # Output: True, the first condition is True\n",
        "          not\n",
        "          Description: Reverses the result. If the condition is True, it returns False, and if the condition is False, it returns True.\n",
        "          Example:\n",
        "          x = 5\n",
        "          print(not(x > 10))  # Output: True, because x > 10 is False, and `not` reverses it"
      ],
      "metadata": {
        "id": "iu4yJAAQyDkl"
      }
    },
    {
      "cell_type": "markdown",
      "source": [
        "9.What is type casting in Python?\n",
        " .\n",
        "   Type casting in Python refers to converting one data type into another. This is helpful when you need to ensure a variable is of a specific type for operations.\n",
        "   Types of Type Casting:\n",
        "   1. Implicit Type Casting (Type Conversion)  \n",
        "     - Python automatically converts one data type to another when required.\n",
        "       - This happens when the conversion is safe and does not lose information.\n",
        "\n",
        "     \n",
        "     \n",
        "       \n",
        "       \n",
        "         Example:\n",
        "            ```python\n",
        "      x = 5        # int\n",
        "       y = 2.5      # float\n",
        "         result = x + y\n",
        "       # Python converts int to float automatically           print(result)  # Output: 7.5\n",
        "                 ```\n",
        "                    \n",
        "  2. Explicit Type Casting (Manual Type Conversion)\n",
        "            - You manually convert a value to a different type using functions like int(), float(), str(), etc.\n",
        "\n",
        "             Examples:   - To Integer:\n",
        "                       ```python\n",
        "                         x = 3.14\n",
        "                        y = int(x)  # Convert float to int\n",
        "                           print(y)  # Output: 3\n",
        "                                       ```\n",
        "                                - To Float:\n",
        "                                 ```python\n",
        "                                 x = \"12.34\"\n",
        "                                 y = float(x)  # Convert string to float\n",
        "                                        print(y)  # Output: 12.34\n",
        "                                                       ```\n",
        "                                              - To String:\n",
        "                                                           ```python\n",
        "                                                              x = 100\n",
        "                                                                 y = str(x)  # Convert integer to string\n",
        "                                                                    print(y)  # Output: \"100\"\n",
        "                                                                       ```\n",
        "                                                                       - We cannot convert String data type to an integer data type it will give us value error. python        name = \"Ashirbad_mandhata\"        int_name = int(name)  # Convert string to integer        print(int_name)  # Output: ValueError        "
      ],
      "metadata": {
        "id": "FHsBkHVt2AAi"
      }
    },
    {
      "cell_type": "markdown",
      "source": [
        "10.What is the difference between implicit and explicit type casting?\n",
        "\n",
        "  .### 1. Implicit Type Casting (Automatic Type Conversion):\n",
        "\n",
        "  Python automatically converts one data type to another when needed, without any explicit instruction from the programmer.\n",
        "\n",
        "  It happens when the conversion is safe and doesn’t lose any information (like converting an integer to a float).\n",
        "\n",
        "  Example:\n",
        "  When you perform an operation with different data types, Python automatically converts them to a compatible type.\n",
        "\n",
        "  x = 5        # int\n",
        "    y = 2.5      # float\n",
        "      result = x + y  # x is automatically converted to float\n",
        "        print(result)  # Output: 7.5\n",
        "        2. Explicit Type Casting (Manual Type Conversion):\n",
        "        The programmer manually converts one data type to another using functions like int(), float(), str(), etc.\n",
        "        When it happens: It happens when you need to tell Python to convert one type to another explicitly.\n",
        "        Example: You manually convert a string to an integer or a float to an integer.\n",
        "        x = 3.14\n",
        "        y = int(x)  # Manually convert float to int\n",
        "        print(y)  # Output: 3\n",
        "        "
      ],
      "metadata": {
        "id": "iGWOhV7t4fuW"
      }
    },
    {
      "cell_type": "markdown",
      "source": [
        "11.What is the purpose of conditional statements in Python?\n",
        ". Conditional statements in Python are used to control the flow of execution based on certain conditions. They allow your program to make decisions, execute different code blocks depending on whether a condition is true or false, and handle various situations in a flexible way."
      ],
      "metadata": {
        "id": "3ayMKnjt47y0"
      }
    },
    {
      "cell_type": "markdown",
      "source": [
        "12.How does the elif statement work?\n",
        "\n",
        "\n",
        "The elif (short for \"else if\") statement in Python is used to check multiple conditions in sequence. It comes after an if statement and allows you to specify additional conditions to check if the initial if condition is false. If the if condition is false, the program will check the elif condition, and if it’s true, it will execute the code inside the elif block.\n",
        "How It Works:\n",
        "\n",
        "if checks the first condition.\n",
        "If the if condition is true, the code inside that block is executed, and the rest of the conditions are skipped.\n",
        "If the if condition is false, the program moves to the elif block and checks the next condition.\n",
        "You can have multiple elif statements to check for different conditions.\n",
        "If none of the if or elif conditions are true, an optional else block can execute.\n",
        "Example:\n",
        "\n",
        "x = 15\n",
        "\n",
        "if x > 20:\n",
        "    print(\"x is greater than 20\")\n",
        "    elif x > 10:\n",
        "        print(\"x is greater than 10 but less than or equal to 20\")\n",
        "        elif x > 5:\n",
        "            print(\"x is greater than 5 but less than or equal to 10\")\n",
        "            else:\n",
        "                print(\"x is 5 or less\")\n",
        "                Output:\n",
        "\n",
        "                x is greater than 10 but less than or equal to 20"
      ],
      "metadata": {
        "id": "q_5dkhI-5qJB"
      }
    },
    {
      "cell_type": "markdown",
      "source": [
        "13.What is the difference between for and while loops?\n",
        "  \n",
        "   The for loop and while loop are both used to repeat a block of code, but they differ in how they control the number of iterations.\n",
        "   for Loop: - The for loop is typically used when the number of iterations is known in advance. It iterates over a sequence (such as a list, tuple, string, or range) and executes the code block for each item in the sequence. - Example Use Case: Iterating through a list or performing a task a specific number of times using range().\n",
        "\n",
        "   Example:\n",
        "\n",
        "   for i in range(5):  # Iterates over values 0, 1, 2, 3, 4\n",
        "       print(i)\n",
        "       The for loop automatically stops once it finishes iterating over the sequence or range.\n",
        "       while Loop:\n",
        "\n",
        "       The while loop runs as long as a condition is true. It is used when the number of iterations is not known in advance, and you want the loop to continue running until a specific condition is no longer true.\n",
        "       Example Use Case: Running a loop until a certain condition is met, such as waiting for user input or processing data until a specific value is reached.\n",
        "       Example: python     count = 0     while count < 5:  # Loops while the condition is true        print(count)        count += 1     \n",
        "\n",
        "       The while loop checks the condition before each iteration and can run indefinitely if the condition never becomes false (known as an infinite loop).\n",
        "       Key Differences:\n",
        "       The for loop is ideal when you know the number of iterations or are iterating over a sequence.\n",
        "       The while loop is ideal when you don’t know how many iterations are needed and want to loop based on a condition.\n",
        "       "
      ],
      "metadata": {
        "id": "huTA9LDd72ss"
      }
    },
    {
      "cell_type": "markdown",
      "source": [
        "14. Describe a scenario where a while loop is more suitable than a for loop?\n",
        "\n",
        "Scenario: Waiting for User Input\n",
        "Let's say you want to keep asking a user for a valid password until they enter it correctly. In this case, the number of attempts is not predetermined, and you want to keep checking the condition (whether the password is correct) until it’s true. This is a perfect scenario for a while loop, because you don’t know how many attempts it will take for the user to provide the correct password, but you want to continue prompting them as long as the condition (correct password) is not met.\n",
        "Example:\n",
        "\n",
        "correct_password = \"my_secret\"\n",
        "user_input = \"\"\n",
        "\n",
        "while user_input != correct_password:  # Keep looping until the password is correct\n",
        "   user_input = input(\"Enter password: \")\n",
        "\n",
        "     print(\"Access granted!\")\n",
        "     Why a while loop is more suitable:\n",
        "\n",
        "     The loop continues to run as long as the condition (user input != correct password) is true.\n",
        "     You don’t know how many attempts the user will need, so the number of iterations isn’t predefined.\n",
        "     The loop only stops once the correct password is entered, which makes the while loop ideal for this scenario."
      ],
      "metadata": {
        "id": "VoEe4sQl8OpE"
      }
    },
    {
      "cell_type": "markdown",
      "source": [
        "#1. Write a Python program to print \"Hello, World!\n",
        "print(\"Hello, World!\")"
      ],
      "metadata": {
        "id": "dGEOJqbe-CzB"
      }
    },
    {
      "cell_type": "markdown",
      "source": [
        "# Pratical Questions and Answers"
      ],
      "metadata": {
        "id": "swriuGjW92rI"
      }
    },
    {
      "cell_type": "code",
      "source": [
        "print (\"Hellow ,world!\")"
      ],
      "metadata": {
        "colab": {
          "base_uri": "https://localhost:8080/"
        },
        "id": "HK39oawI-xeF",
        "outputId": "7e4a469c-0642-4817-adff-1bd6d125ae68"
      },
      "execution_count": null,
      "outputs": [
        {
          "output_type": "stream",
          "name": "stdout",
          "text": [
            "Hellow ,world!\n"
          ]
        }
      ]
    },
    {
      "cell_type": "code",
      "source": [
        "#2 Write a Python program that displays your name and age\n",
        "name = \"Jagnyaseni Mohapatra \"\n",
        "age = 23\n",
        "\n",
        "print(\"Name:\", name)\n",
        "print(\"Age:\", age)"
      ],
      "metadata": {
        "colab": {
          "base_uri": "https://localhost:8080/"
        },
        "id": "s2W9piyY-ftR",
        "outputId": "f53cec4d-ecc9-4589-b313-9a1ed7d92451"
      },
      "execution_count": null,
      "outputs": [
        {
          "output_type": "stream",
          "name": "stdout",
          "text": [
            "Name: Jagnyaseni Mohapatra \n",
            "Age: 23\n"
          ]
        }
      ]
    },
    {
      "cell_type": "code",
      "source": [
        "#3  Write code to print all the pre-defined keywords in Python using the keyword library\n",
        "import keyword\n",
        "\n",
        "print(\"Python Keywords:\")\n",
        "print(keyword.kwlist)\n"
      ],
      "metadata": {
        "colab": {
          "base_uri": "https://localhost:8080/"
        },
        "id": "MhwbsC2vBvT8",
        "outputId": "63dd9732-0ded-46b9-954e-07d553d7e4bd"
      },
      "execution_count": null,
      "outputs": [
        {
          "output_type": "stream",
          "name": "stdout",
          "text": [
            "Python Keywords:\n",
            "['False', 'None', 'True', 'and', 'as', 'assert', 'async', 'await', 'break', 'class', 'continue', 'def', 'del', 'elif', 'else', 'except', 'finally', 'for', 'from', 'global', 'if', 'import', 'in', 'is', 'lambda', 'nonlocal', 'not', 'or', 'pass', 'raise', 'return', 'try', 'while', 'with', 'yield']\n"
          ]
        }
      ]
    },
    {
      "cell_type": "code",
      "source": [],
      "metadata": {
        "id": "wjFEwB8cH4dY"
      },
      "execution_count": null,
      "outputs": []
    },
    {
      "cell_type": "code",
      "source": [
        "#5. Create a list and tuple in Python, and demonstrate how attempting to change an element works differently for each\n",
        "my_list = [1, 2, 3, 4, 5]\n",
        "my_tuple = (1, 2, 3, 4, 5)\n",
        "\n",
        "# Trying to change an element in the list\n",
        "print(\"Original list:\", my_list)\n",
        "my_list[2] = 10  # Changing the element at index 2\n",
        "print(\"List after modification:\", my_list)\n",
        "\n",
        "# Trying to change an element in the tuple\n",
        "print(\"Original tuple:\", my_tuple)\n",
        "\n",
        "# Tuples are immutable, so this will result in an error\n",
        "# The following line will cause a TypeError if uncommented\n",
        "# my_tuple[2] = 10  # Attempting to change the element at index 2"
      ],
      "metadata": {
        "colab": {
          "base_uri": "https://localhost:8080/"
        },
        "id": "z76LsCgMIFPC",
        "outputId": "90e79ce7-6ad1-4bae-9ba9-724a50cf58a4"
      },
      "execution_count": null,
      "outputs": [
        {
          "output_type": "stream",
          "name": "stdout",
          "text": [
            "Original list: [1, 2, 3, 4, 5]\n",
            "List after modification: [1, 2, 10, 4, 5]\n",
            "Original tuple: (1, 2, 3, 4, 5)\n"
          ]
        }
      ]
    },
    {
      "cell_type": "code",
      "source": [
        "#7 Write a function to demonstrate the behavior of mutable and immutable arguments\n",
        "def modify_data(mutable_arg, immutable_arg):\n",
        "    # Modifying the mutable argument (a list)\n",
        "    print(\"Original mutable argument:\", mutable_arg)\n",
        "    mutable_arg[1] = 100  # Modifying the first element of the list\n",
        "    print(\"Modified mutable argument:\", mutable_arg)\n",
        "\n",
        "    # Modifying the immutable argument (a string)\n",
        "    print(\"Original immutable argument:\", immutable_arg)\n",
        "    immutable_arg = \"New Value\"  # Reassigning the value of the string\n",
        "    print(\"Modified immutable argument:\", immutable_arg)\n",
        "\n",
        "# Creating a mutable argument (list) and an immutable argument (string)\n",
        "my_list = [1, 2, 3]\n",
        "my_string = \"Hello Jagnyaseni \"\n",
        "\n",
        "modify_data(my_list, my_string)\n",
        "\n",
        "print(\"Final value of the mutable argument (list) outside the function:\", my_list)\n",
        "print(\"Final value of the immutable argument (string) outside the function:\", my_string)\n",
        "\n",
        "\n",
        "\n"
      ],
      "metadata": {
        "colab": {
          "base_uri": "https://localhost:8080/"
        },
        "id": "XSk4ja9XKACe",
        "outputId": "fd08b70a-0391-464b-8d00-75589ba9462b"
      },
      "execution_count": null,
      "outputs": [
        {
          "output_type": "stream",
          "name": "stdout",
          "text": [
            "Original mutable argument: [1, 2, 3]\n",
            "Modified mutable argument: [1, 100, 3]\n",
            "Original immutable argument: Hello Jagnyaseni \n",
            "Modified immutable argument: New Value\n",
            "Final value of the mutable argument (list) outside the function: [1, 100, 3]\n",
            "Final value of the immutable argument (string) outside the function: Hello Jagnyaseni \n"
          ]
        }
      ]
    },
    {
      "cell_type": "code",
      "source": [
        "#8. Write a program to demonstrate the use of logical operators\n",
        "x = 8\n",
        "y = 12\n",
        "z = 15\n",
        "\n",
        "# Using 'and' logical operator\n",
        "print(\"Using 'and' operator:\")\n",
        "if x < y and z > y:\n",
        "    print(f\"Both conditions are true: x < y ({x < y}) and z > y ({z > y})\")\n",
        "\n",
        "# Using 'or' logical operator\n",
        "print(\"\\nUsing 'or' operator:\")\n",
        "if x > y or z > y:\n",
        "    print(f\"At least one condition is true: x > y ({x > y}) or z > y ({z > y})\")\n",
        "\n",
        "# Using 'not' logical operator\n",
        "print(\"\\nUsing 'not' operator:\")\n",
        "if not (x > y):\n",
        "         print(f\"Condition x > y is false, so 'not' makes it true: x > y ({x > y})\")\n",
        "\n",
        "# Combining multiple logical operators\n",
        "print(\"\\nCombining logical operators:\")\n",
        "if x < y and (z > y or y == 12):\n",
        "     print(f\"Combination of 'and' and 'or' is true: x < y ({x < y}), z > y ({z > y}) or y == 12 ({y == 12})\")\n",
        "\n"
      ],
      "metadata": {
        "colab": {
          "base_uri": "https://localhost:8080/"
        },
        "id": "6id-mCAvLF4K",
        "outputId": "07b45148-3fe3-4493-f34d-8f76db7a783a"
      },
      "execution_count": null,
      "outputs": [
        {
          "output_type": "stream",
          "name": "stdout",
          "text": [
            "Using 'and' operator:\n",
            "Both conditions are true: x < y (True) and z > y (True)\n",
            "\n",
            "Using 'or' operator:\n",
            "At least one condition is true: x > y (False) or z > y (True)\n",
            "\n",
            "Using 'not' operator:\n",
            "Condition x > y is false, so 'not' makes it true: x > y (False)\n",
            "\n",
            "Combining logical operators:\n",
            "Combination of 'and' and 'or' is true: x < y (True), z > y (True) or y == 12 (True)\n"
          ]
        }
      ]
    },
    {
      "cell_type": "code",
      "source": [],
      "metadata": {
        "id": "lAbTm9LJTSRu"
      },
      "execution_count": null,
      "outputs": []
    },
    {
      "cell_type": "code",
      "source": [],
      "metadata": {
        "id": "78j3OkA8Udbo"
      },
      "execution_count": null,
      "outputs": []
    },
    {
      "cell_type": "code",
      "source": [
        "#11.  Write a program that checks if a number is positive, negative, or zero\n",
        "#12 Write a for loop to print numbers from 1 to 10\n",
        "\n",
        "for number in range(1,11):\n",
        "  print(number)\n",
        "       e\n",
        "number = float(input(\"Enter a number: \"))\n",
        "\n",
        "# Check if the number is positive, negative, or zero\n",
        "if number > 0:\n",
        "    print(f\"The number {number} is positive.\")\n",
        "elif number < 0:\n",
        "   print(f\"The number {number} is negative.\")\n",
        "else:\n",
        "   print(\"The number is zero.\")\n"
      ],
      "metadata": {
        "colab": {
          "base_uri": "https://localhost:8080/"
        },
        "id": "V5KzF4kuP2Sk",
        "outputId": "79e8605d-282d-41d2-d4c8-f9e6775f5943"
      },
      "execution_count": null,
      "outputs": [
        {
          "output_type": "stream",
          "name": "stdout",
          "text": [
            "Enter a number: 0\n",
            "The number is zero.\n"
          ]
        }
      ]
    },
    {
      "cell_type": "code",
      "source": [
        "#12 Write a for loop to print numbers from 1 to 10\n",
        "\n",
        "for number in range(1,11):\n",
        "  print(number)\n"
      ],
      "metadata": {
        "colab": {
          "base_uri": "https://localhost:8080/"
        },
        "id": "7uyNvBbPPEKp",
        "outputId": "eb4da9a9-3961-4849-f131-47d3ba7b2945"
      },
      "execution_count": null,
      "outputs": [
        {
          "output_type": "stream",
          "name": "stdout",
          "text": [
            "1\n",
            "2\n",
            "3\n",
            "4\n",
            "5\n",
            "6\n",
            "7\n",
            "8\n",
            "9\n",
            "10\n"
          ]
        }
      ]
    },
    {
      "cell_type": "code",
      "source": [
        "#13. Write a Python program to find the sum of all even numbers between 1 and 50\n",
        "# Initialize a variable to store the sum\n",
        "sum_of_evens = 0\n",
        "\n",
        "for number in range(1, 51):\n",
        "    if number % 2 == 0:\n",
        "        sum_of_evens += number\n",
        "\n",
        "print(\"The sum of all even numbers between 1 and 50 is:\", sum_of_evens)\n"
      ],
      "metadata": {
        "colab": {
          "base_uri": "https://localhost:8080/"
        },
        "id": "y7B6e6quRQsC",
        "outputId": "c599058a-a827-48e0-f4fb-e1a7ad2bce7f"
      },
      "execution_count": null,
      "outputs": [
        {
          "output_type": "stream",
          "name": "stdout",
          "text": [
            "The sum of all even numbers between 1 and 50 is: 650\n"
          ]
        }
      ]
    },
    {
      "cell_type": "code",
      "source": [
        "#14. Write a program to reverse a string using a while loop\n",
        "\n",
        "original_string = input(\"Enter a string: \")\n",
        "\n",
        "rev_str = \"\"\n",
        "index = len(original_string) - 1\n",
        "\n",
        "while index >= 0:\n",
        "    rev_str += original_string[index]\n",
        "    index -= 1\n",
        "\n",
        "print(\"Reversed string:\", rev_str)\n",
        "\n"
      ],
      "metadata": {
        "colab": {
          "base_uri": "https://localhost:8080/"
        },
        "id": "ieyv93LJSEG5",
        "outputId": "c1f6ccde-d6ed-407c-f614-516b14050bee"
      },
      "execution_count": null,
      "outputs": [
        {
          "output_type": "stream",
          "name": "stdout",
          "text": [
            "Enter a string: Data\n",
            "Reversed string: ataD\n"
          ]
        }
      ]
    },
    {
      "cell_type": "code",
      "source": [
        "#15. Write a Python program to calculate the factorial of a number provided by the user using a while loop\n",
        "\n",
        "number = int(input(\"Enter a non-negative integer: \"))\n",
        "\n",
        "factorial = 1\n",
        "current = number\n",
        "\n",
        "if number < 0:\n",
        "    print(\"Factorial is not defined for negative numbers.\")\n",
        "else:\n",
        "    while current > 0:\n",
        "        factorial *= current\n",
        "        current -= 1\n",
        "\n",
        "    print(f\"The factorial of {number} is: {factorial}\")\n"
      ],
      "metadata": {
        "colab": {
          "base_uri": "https://localhost:8080/"
        },
        "id": "AqMwiz3tSjMy",
        "outputId": "ae7c6036-9d79-4121-e50a-0fc78e678e62"
      },
      "execution_count": null,
      "outputs": [
        {
          "output_type": "stream",
          "name": "stdout",
          "text": [
            "Enter a non-negative integer: 4\n",
            "The factorial of 4 is: 24\n"
          ]
        }
      ]
    },
    {
      "cell_type": "code",
      "source": [],
      "metadata": {
        "id": "3dNmtDNlS6Tw"
      },
      "execution_count": null,
      "outputs": []
    }
  ]
}